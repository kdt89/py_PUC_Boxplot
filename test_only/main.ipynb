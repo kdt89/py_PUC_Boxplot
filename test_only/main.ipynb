{
 "cells": [
  {
   "cell_type": "code",
   "execution_count": 1,
   "metadata": {},
   "outputs": [
    {
     "data": {
      "image/png": "[encoded data removed]",
      "text/plain": [
       "<Figure size 640x480 with 1 Axes>"
      ]
     },
     "metadata": {},
     "output_type": "display_data"
    }
   ],
   "source": [
    "import pandas as pd\n",
    "import matplotlib.pyplot as plt\n",
    "import numpy as np\n",
    "\n",
    "from pptx import Presentation\n",
    "from pptx.util import Inches\n",
    "\n",
    "\n",
    "column1 = 'DATA_FILENAME'\n",
    "column2 = 'LT4_FOS_1000NITS_W511_10HZ WU GLumUniformity'\n",
    "\n",
    "df = pd.read_csv(\".\\\\merged data.csv\", index_col=None, \n",
    "                sep=',', header=0, \n",
    "                usecols=None, skiprows=None)\n",
    "\n",
    "# Remove duplicated rows\n",
    "df = df.drop_duplicates()\n",
    "df.shape\n",
    "\n",
    "# Merging data frames into one frame\n",
    "df_plot = df[[column1, column2]]\n",
    "df_plot_groups = df_plot.groupby(column1, sort=None)\n",
    "\n",
    "# Prepare data\n",
    "plot_data_labels = []\n",
    "plot_data_array = []\n",
    "\n",
    "for groupname, groupdata in df_plot_groups:\n",
    "    plot_data_labels.append(groupname)\n",
    "    plot_data_array.append((groupdata[column2]).to_numpy(dtype='float'))\n",
    "\n",
    "\n",
    "plt.boxplot(x=plot_data_array, labels=plot_data_labels)\n",
    "plt.savefig('boxplot.png', transparent=True)\n",
    "plt.show()\n",
    "\n",
    "# Open the PPT\n",
    "ppt_output = Presentation('Template_Report.pptx')\n",
    "\n",
    "# Select the slide to be editted\n",
    "slide = ppt_output.slides[0]\n",
    "\n",
    "# Remove the old figures\n",
    "shapes = slide.shapes\n",
    "for shape in shapes:\n",
    "    #print(shape.shape_type)\n",
    "    if shape.shape_type == 13: # 13 = PICTURE\n",
    "        shapes.element.remove(shape.element)\n",
    "\n",
    "# Add the new figures\n",
    "plot_img_path = 'boxplot.png'\n",
    "plot_img = slide.shapes.add_picture(plot_img_path, Inches(0.40), Inches(4.85), width=Inches(5.30))\n",
    "\n",
    "# Send the figures to the back\n",
    "ref_element = slide.shapes[0]._element\n",
    "ref_element.addprevious(plot_img._element)\n",
    "\n",
    "# Save the PPT\n",
    "ppt_output.save('Template_Report_new.pptx')\n",
    "\n",
    "\n",
    "\n",
    "def df_to_list_array(\n",
    "    dataframe: pd.DataFrame,\n",
    "    groupby_columnname: str,\n",
    "    getdata_columnname: str\n",
    "):\n",
    "\n",
    "    pass\n",
    "\n",
    "\n"
   ]
  }
 ],
 "metadata": {
  "kernelspec": {
   "display_name": "Python 3",
   "language": "python",
   "name": "python3"
  },
  "language_info": {
   "codemirror_mode": {
    "name": "ipython",
    "version": 3
   },
   "file_extension": ".py",
   "mimetype": "text/x-python",
   "name": "python",
   "nbconvert_exporter": "python",
   "pygments_lexer": "ipython3",
   "version": "3.11.2"
  },
  "orig_nbformat": 4
 },
 "nbformat": 4,
 "nbformat_minor": 2
}
